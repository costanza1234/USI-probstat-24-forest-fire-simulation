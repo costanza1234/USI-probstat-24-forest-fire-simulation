{
 "cells": [
  {
   "cell_type": "markdown",
   "metadata": {},
   "source": [
    "# Forest Fire Propagation"
   ]
  },
  {
   "cell_type": "markdown",
   "metadata": {},
   "source": [
    "## Elements \n",
    "\n",
    "A forest is represented by an n*m grid, where each cell has one of the following possible types:\n",
    "\n",
    "- WATER\n",
    "- GRASS\n",
    "- DENSE_TREES\n",
    "- FOREST\n",
    "- BURNING\n",
    "- BURNED\n",
    "\n",
    "* BURNING cells can only become BURNED\n",
    "* WATER and BURNED cells remain the same\n",
    "* the othe types of cells can become BURNING"
   ]
  },
  {
   "cell_type": "code",
   "execution_count": 1,
   "metadata": {},
   "outputs": [],
   "source": [
    "from enum import Enum\n",
    "\n",
    "class CellType(Enum):\n",
    "    BURNED = 0\n",
    "    GRASS = 1\n",
    "    DENSE_TREES = 2\n",
    "    FOREST = 3\n",
    "    BURNING = 4\n",
    "    WATER = 5"
   ]
  },
  {
   "cell_type": "markdown",
   "metadata": {},
   "source": [
    "Every type of cell has a predefined color, stored in the dictionray `cell_colors`"
   ]
  },
  {
   "cell_type": "code",
   "execution_count": 2,
   "metadata": {},
   "outputs": [],
   "source": [
    "cell_colors = { \n",
    "    CellType.BURNED: 'black',\n",
    "    CellType.GRASS: 'springgreen',\n",
    "    CellType.DENSE_TREES: 'green',\n",
    "    CellType.FOREST: 'forestgreen',\n",
    "    CellType.BURNING: 'crimson',\n",
    "    CellType.WATER: 'royalblue'\n",
    "    }"
   ]
  },
  {
   "cell_type": "markdown",
   "metadata": {},
   "source": [
    "Each type of cell has a different probability of igniting based on the type of vegetation. These probabilities are stored in the dictionary `igniting_probabilities`.\n",
    "Each cell also has a very small probability of self ignite, stores in constant `self_ignite`"
   ]
  },
  {
   "cell_type": "code",
   "execution_count": 3,
   "metadata": {},
   "outputs": [],
   "source": [
    "igniting_probabilities = { \n",
    "    CellType.BURNED: 0,\n",
    "    CellType.GRASS: 0.2,\n",
    "    CellType.DENSE_TREES: 0.4,\n",
    "    CellType.FOREST: 0.3,\n",
    "    CellType.BURNING: 0,\n",
    "    CellType.WATER: 0\n",
    "    }\n",
    "\n",
    "self_ignite = 0.0001"
   ]
  },
  {
   "cell_type": "markdown",
   "metadata": {},
   "source": [
    "Based on the number of burning neighbors, the probability of a cell igniting is multiplied by a factor, stored in `burning_neighbours_factor`.\n",
    "It's an array where, at position 0, there is the multiplicative factor that will be multiplied if I have 0 burning neighbours, up until a maximum of 8 neighbours.\n"
   ]
  },
  {
   "cell_type": "code",
   "execution_count": 4,
   "metadata": {},
   "outputs": [],
   "source": [
    "burning_neighbours_factor = [1, 1.1, 1.2, 1.3, 1.4, 1.5, 1.6, 1.7, 1.8] "
   ]
  },
  {
   "cell_type": "markdown",
   "metadata": {},
   "source": [
    "Other constants that are required for the additional features are the maximum possible elevation of the forest, stored in `max_elevation` and the maximum speed of the wind, stored in `max_wind_speed`. Also a dictionary, mapping from String to 2-tuple to make the wind-setting more intuitive :)"
   ]
  },
  {
   "cell_type": "code",
   "execution_count": 5,
   "metadata": {},
   "outputs": [],
   "source": [
    "max_elevation = 8000\n",
    "max_wind_speed = 10\n",
    "wind_factor = 1\n",
    "wind_directions = {\n",
    "    \"South\": (-1, 0),\n",
    "    \"North\": (1, 0),\n",
    "    \"East\": (0, 1),\n",
    "    \"West\": (0, -1),\n",
    "    \"South-East\": (-1, 1),\n",
    "    \"South-West\": (-1, -1),\n",
    "    \"North-East\": (1, 1),\n",
    "    \"North-West\": (1, -1),\n",
    "    \"None\": (0, 0)\n",
    "}"
   ]
  },
  {
   "cell_type": "markdown",
   "metadata": {},
   "source": [
    "## 1.a `initialize_grid` function\n",
    "\n",
    "Outputs a `m x n` grid, which represents the forest. Each cell has a specific i,j coordinate and a type. \n",
    "In particular, the grid will be a grid of `CellTypes`, enum defined above.\n",
    "At first, I store the possible types of cells in an array so i can use function random.choices.\n",
    "Because we want the initial grid to be randomly generated, we have a set of probability weights, these weights determine the likelihood of a cell to be of one of the possible types. In the beginning, no cell is burned already\n",
    "\n",
    "### `initialize_grid` pseudocode"
   ]
  },
  {
   "cell_type": "code",
   "execution_count": 6,
   "metadata": {},
   "outputs": [],
   "source": [
    "# INITIALIZE_GRID(m, n)\n",
    "# 1. Initialize an array of cell types\n",
    "# 2. Create the array of weights\n",
    "# 3. Generate a list of k elements, where each element is randomly chosen from the list of cell_types, where the probability of choosing each element is given by the list of weights\n",
    "# 4. Shape the list into a matrix of size n x m\n",
    "# 5. Return the grid"
   ]
  },
  {
   "cell_type": "markdown",
   "metadata": {},
   "source": [
    "### `initialize_grid` code\n"
   ]
  },
  {
   "cell_type": "code",
   "execution_count": 7,
   "metadata": {},
   "outputs": [],
   "source": [
    "import random\n",
    "import numpy as np\n",
    "\n",
    "def initialize_grid(n,m):\n",
    "    # the possible types of cells in an array so i can use function random.choices\n",
    "    cell_types = [CellType.BURNED, CellType.GRASS, CellType.DENSE_TREES, CellType.FOREST, CellType.BURNING, CellType.WATER]\n",
    "\n",
    "    # because we want the initial grid to be randomly generated, we have a set of probability weights, \n",
    "    # these weights determine the likelihood of a cell to be of one of the possible types\n",
    "    # in the beginning, no cell is burned already\n",
    "    weights = [0, 0.3, 0.2, 0.3, 0.000001, 0.005]\n",
    "\n",
    "    # the grid is an nxm matrix (represented as an array of arrays)\n",
    "    grid_size = n * m\n",
    "\n",
    "    grid1 = random.choices(cell_types, weights, k = grid_size)\n",
    "    grid2 = np.array(grid1)\n",
    "    grid = grid2.reshape((n, m))\n",
    "    grid[n//2, m//2] = CellType.BURNING\n",
    "    return grid"
   ]
  },
  {
   "cell_type": "markdown",
   "metadata": {},
   "source": [
    "## 1.b  `plot_grid` function\n",
    "\n",
    "Visualize the current state of the grid using different colors for each type of area using the PIL library.\n",
    "The pseudocode represents is the logic i would use, the actual plot_grid function is implemented using Pillow\n",
    "\n",
    "### `plot_grid` pseudocode"
   ]
  },
  {
   "cell_type": "code",
   "execution_count": 8,
   "metadata": {},
   "outputs": [],
   "source": [
    "# PLOT_GRID(grid)\n",
    "# 1. for each cell, turn it into a square with size b x h\n",
    "#   i. color the square with the color of the cell\n",
    "# 2. initialize a container for the rows\n",
    "# 3. for each row in the grid:\n",
    "#   i. rows.append(some_horizontal_combinator(row)) where some_horizontal_combinator is a function that takes an array and combines all its elements (that are graphics) horizontally and returns a single image\n",
    "# 4. variable result = some_vertical_combinator(rows) where some_vertical_combinator is a function that takes an array and combines all its elements (that are graphics) vertically and returns a single image\n",
    "# 5. return result, which is an image"
   ]
  },
  {
   "cell_type": "markdown",
   "metadata": {},
   "source": [
    "### `plot_grid` code"
   ]
  },
  {
   "cell_type": "code",
   "execution_count": 9,
   "metadata": {},
   "outputs": [],
   "source": [
    "from PIL import Image, ImageDraw\n",
    "\n",
    "# agnese gave me this function :)\n",
    "\n",
    "def plot_grid(grid):\n",
    "    n, m = grid.shape\n",
    "    # Create a blank image\n",
    "    cell_size = 20\n",
    "    image = Image.new(\"RGB\", (cell_size * m, cell_size * n))\n",
    "\n",
    "    # Create a drawing context\n",
    "    draw = ImageDraw.Draw(image)\n",
    "   \n",
    "   # Draw the grid\n",
    "    for i in range(n):\n",
    "        for j in range(m):\n",
    "            value = grid[i, j]\n",
    "            cell_color = cell_colors[value]\n",
    "            draw.rectangle(\n",
    "                [j * cell_size, i * cell_size, (j + 1) * cell_size, \n",
    "                (i + 1) * cell_size],\n",
    "                fill=cell_color\n",
    "            )\n",
    "            \n",
    "    return image"
   ]
  },
  {
   "cell_type": "markdown",
   "metadata": {},
   "source": [
    "## 1.c `neighbours` function\n",
    "\n",
    "Given the coordinates of a cell and the grid, returns an array of coordinates of all its neighbours.\n",
    "\n",
    "### `neighbours` pseudocode"
   ]
  },
  {
   "cell_type": "code",
   "execution_count": 10,
   "metadata": {},
   "outputs": [],
   "source": [
    "# NEIGHBOURS(x, y, n, m)\n",
    "# 1. initialize the result container\n",
    "# 2. if the point is in not in the grid, return error\n",
    "# 3. else:\n",
    "#   i. create an array of tuples with the coordinates of the possible neighbors (8 possibilities)\n",
    "#   ii. for each pair of coordinates:\n",
    "#       a. compute the coordinates of the neighbor\n",
    "#       b. if the neighbor is in the grid, add it to the result container\n",
    "#   iii. return the result container"
   ]
  },
  {
   "cell_type": "markdown",
   "metadata": {},
   "source": [
    "### `neighbours` code"
   ]
  },
  {
   "cell_type": "code",
   "execution_count": 11,
   "metadata": {},
   "outputs": [],
   "source": [
    "def neighbors(grid, x, y):\n",
    "    n, m = grid.shape\n",
    "\n",
    "    # initialize result container\n",
    "    result = [] \n",
    "\n",
    "    # check is the given point is in the size of the grid\n",
    "    if (x > m or y > n) and (x < 0 or y < 0): \n",
    "        return \"Error: x or y out of bounds\"\n",
    "    \n",
    "    else:\n",
    "        offsets = [(1,0), (0,1), (-1,0), (0,-1), (1,1), (-1,-1), (1,-1), (-1,1)]\n",
    "\n",
    "        for i,j in offsets:\n",
    "\n",
    "            # calculate new point based on given offsets and check validity\n",
    "            if (x+i >= 0 and x+i < m) and (y+j >= 0 and y+j < n): \n",
    "\n",
    "                # if new point is valid: it's a neighbor!! append it to the result \n",
    "                result.append((x+i, y+j)) \n",
    "                \n",
    "        return result"
   ]
  },
  {
   "cell_type": "markdown",
   "metadata": {},
   "source": [
    "## 1.d `propagate` function\n",
    "\n",
    "Given the grid and a cell coordinate, determines the type of the cell at the next tick of time (t+1).\n",
    "\n",
    "### `propagate` pseudocode"
   ]
  },
  {
   "cell_type": "code",
   "execution_count": 12,
   "metadata": {},
   "outputs": [],
   "source": [
    "# PROPAGATE(grid, x, y, environmental_factors)\n",
    "#   1. get the type of cell at coordinates x,y in the grid\n",
    "#   2. if the type of the cell is burning, return CellType.BURNED\n",
    "#   3. compute the neighbors of the cell\n",
    "#   4. check in the grid if the neighorsare burning are burning and count them\n",
    "#   5. compute the probability of the given cell burning based on the number of burning neighbors and the type of the cell and environmental_factors\n",
    "#   6. generate number with random.random() a number between 0 and 1\n",
    "#   7. check if the number is smaller than the probability of the cell burning \n",
    "#   8. if yes: return CellType.BURNING, \n",
    "#   9. else: return current cell"
   ]
  },
  {
   "cell_type": "markdown",
   "metadata": {},
   "source": [
    "### `propagate` code"
   ]
  },
  {
   "cell_type": "code",
   "execution_count": 13,
   "metadata": {},
   "outputs": [],
   "source": [
    "def propagate(grid, x, y, wind, wind_speed, elevation):\n",
    "    # get the wind vector\n",
    "    wind_vector = wind_directions[wind]\n",
    "    \n",
    "    # get the current cell\n",
    "    current = grid[x, y]\n",
    "    \n",
    "    # use the global variable wind_factor\n",
    "    global wind_factor\n",
    "\n",
    "    # if the cell is already burning, it will be burned\n",
    "    if current == CellType.BURNING:\n",
    "        return CellType.BURNED\n",
    "    elif current == CellType.WATER or current == CellType.BURNED:\n",
    "        # if the cell is water or burned the state will remain the same\n",
    "        # (it cannot catch fire)\n",
    "        return current\n",
    "    \n",
    "    # get the neighbors of the cell\n",
    "    neighbors_list = neighbors(grid, x, y) \n",
    "    total_neighbors = len(neighbors_list) \n",
    "\n",
    "    # how many neighbors are burning\n",
    "    burning_neighbors = 0\n",
    "    # how many neighbors are water\n",
    "    water_count = 0 \n",
    "\n",
    "    for i,j in neighbors_list: \n",
    "        if grid[i, j] == CellType.BURNING: \n",
    "            burning_neighbors += 1 \n",
    "            # check if the burning cell is in the direction of the wind\n",
    "            if (i - x, j - y) == wind_vector:\n",
    "                wind_factor = (1.2)**wind_speed\n",
    "            if (x-i, y -j) == wind_vector:\n",
    "                wind_factor = 1/(1.2)**wind_speed       \n",
    "        # check if the neighbor is water\n",
    "        if grid[i, j] == CellType.WATER:\n",
    "            water_count += 1        \n",
    "    # arbitrarily defined environmental factors\n",
    "    water_factor = 1 - (water_count / total_neighbors)\n",
    "    elevation_factor = 1- (elevation / (max_elevation + 1))\n",
    "    # if there are no burning neighbors, the probability of ignition depends on the self igniting property of a cell and environmental factors\n",
    "    if(burning_neighbors == 0): \n",
    "        # the probability of catching fire is self_ignite (see above) and environmental factors\n",
    "        p = self_ignite * elevation_factor * wind_factor * water_factor\n",
    "    # if the cell has burning neighbors\n",
    "    else: \n",
    "        # probability p of burning is calculated based on arbitrary defined environmental factors (see above)\n",
    "        p = igniting_probabilities[current] * burning_neighbours_factor[burning_neighbors] * wind_factor * elevation_factor * water_factor\n",
    "    # if the random number is smaller than the probability, the cell will catch fire (i.e if )\n",
    "    if random.random() < p:\n",
    "        return CellType.BURNING \n",
    "    # if the cell is either burned or water, it will stay the same\n",
    "    else: \n",
    "        return current"
   ]
  },
  {
   "cell_type": "markdown",
   "metadata": {},
   "source": [
    "## 1.e `update_grid` function\n",
    "Takes the grid and the environmental parameters, returns a new, updated grid using the propagate function\n",
    "### `update_grid` pseudocode"
   ]
  },
  {
   "cell_type": "code",
   "execution_count": 14,
   "metadata": {},
   "outputs": [],
   "source": [
    "# UPDATE_GRID(grid, environmental_factors)\n",
    "# 1. get the grid's dimensions\n",
    "# 2. generate an empty grid \"new_grid\" with the same dimensions as \"grid\"\n",
    "# 3. fill each cell of \"new_grid\" with the value returned from \"propagate(grid, i, j)\"\n",
    "# 4. return the new grid"
   ]
  },
  {
   "cell_type": "markdown",
   "metadata": {},
   "source": [
    "### `update_grid` code"
   ]
  },
  {
   "cell_type": "code",
   "execution_count": 15,
   "metadata": {},
   "outputs": [],
   "source": [
    "def update_grid(grid, wind, wind_speed, elevation):\n",
    "    n, m = grid.shape\n",
    "    new_grid = [CellType.BURNED] * (n*m)\n",
    "    new_grid = np.array(new_grid).reshape((n, m))\n",
    "\n",
    "    for i in range(n):\n",
    "        for j in range(m):\n",
    "            new_grid[i][j] = propagate(grid, i, j, wind, wind_speed, elevation)\n",
    "\n",
    "    return np.array(new_grid)"
   ]
  },
  {
   "cell_type": "code",
   "execution_count": 16,
   "metadata": {},
   "outputs": [],
   "source": [
    "def are_cells_burning(grid):\n",
    "    # get the size of the grid\n",
    "    n,m = grid.shape\n",
    "\n",
    "     # loop through the grid\n",
    "    for i in range(n):\n",
    "        for j in range(m): \n",
    "\n",
    "            # if there is a burning cell, return True\n",
    "            if grid[i,j] == CellType.BURNING: \n",
    "                return True\n",
    "            \n",
    "    return False"
   ]
  },
  {
   "cell_type": "markdown",
   "metadata": {},
   "source": [
    "## 1.f `simulate` function\n",
    "the logic i would use is in the pseudocode, the actual function is implemented in a more complex way but the core logic is the same\n",
    "\n",
    "### `simulate` pseudocode"
   ]
  },
  {
   "cell_type": "code",
   "execution_count": 17,
   "metadata": {},
   "outputs": [],
   "source": [
    "# SIMULATE(grid, envrionmental_factors)\n",
    "# while cells_are_burning in the grid:\n",
    "#   plot_grid(grid)\n",
    "#   update_grid(grid, envrionmental_factors)"
   ]
  },
  {
   "cell_type": "markdown",
   "metadata": {},
   "source": [
    "## `simulate` code"
   ]
  },
  {
   "cell_type": "code",
   "execution_count": 18,
   "metadata": {},
   "outputs": [],
   "source": [
    "# agnese gave me this function :) \n",
    "import os\n",
    "\n",
    "def simulate(n=100, m=100, wind = \"None\", wind_speed = 0, elevation = 0):\n",
    "    grid = initialize_grid(n, m)\n",
    "    frame_delay = 300\n",
    "    output_dir = \"animation_frames\"\n",
    "    os.makedirs(output_dir, exist_ok=True)\n",
    "\n",
    "    frames = []\n",
    "    frame_paths = []\n",
    "    i = 0\n",
    "    # generate 100 frames max\n",
    "    \n",
    "    while are_cells_burning(grid):\n",
    "        # Draw the grid\n",
    "        frames.append(grid)\n",
    "        plot_image = plot_grid(grid)\n",
    "        frame_path = os.path.join(output_dir, f\"frame_{i:03d}.png\")\n",
    "        plot_image.save(frame_path)\n",
    "        frame_paths.append(frame_path)\n",
    "        # update the grid passing desired parameters\n",
    "        grid = update_grid(grid, wind, wind_speed, elevation)\n",
    "        i += 1\n",
    "    # create gif\n",
    "    output_gif_path = \"forest_fire_animation.gif\"\n",
    "    frames = [Image.open(frame_path) for frame_path in frame_paths]\n",
    "    frames[0].save(\n",
    "    output_gif_path,\n",
    "    save_all=True,\n",
    "    append_images=frames[1:],\n",
    "    duration=frame_delay,\n",
    "    loop=0  # 0 means an infinite loop\n",
    "    )\n",
    "    print(\"done :)\")\n",
    "    "
   ]
  },
  {
   "cell_type": "markdown",
   "metadata": {},
   "source": [
    "## 1.g The Forest Fire Model\n",
    "\n",
    "Run the following cell to simulate the forest fire over a 50 * 50 grid. See the resulting animation in the generated file `\"forest_fire_animation.gif\"`."
   ]
  },
  {
   "cell_type": "code",
   "execution_count": 19,
   "metadata": {},
   "outputs": [
    {
     "name": "stdout",
     "output_type": "stream",
     "text": [
      "done :)\n"
     ]
    }
   ],
   "source": [
    "# first 2 parameters are size of the grid\n",
    "# WIND is one of: \"North\", \"South\", \"West\", \"East\", \"North-East\", \"North-West\", \"South-East\", \"South-West\", \"None\n",
    "# WIND_SPEED is a number between 0 and 10 included (beware, 10 is VERY STRONG)\n",
    "# ELEVATION is a number between 0 and 8000 included\n",
    "\n",
    "\n",
    "simulate(50, 50)"
   ]
  },
  {
   "cell_type": "markdown",
   "metadata": {},
   "source": [
    "## 2.a \n",
    "\n",
    "**QUESTION:**\n",
    "\n",
    "Identify and explain the random variables involved in the `update_grid` function.\n",
    "How are these random variables utilized in the simulation?\n",
    "\n",
    "**ANSWER:**\n",
    "\n",
    "The random variable involved in updating the grid is actually used in the propagate function.\n",
    "\n",
    "Each cell has one of the following types: BURNED, GRASS, DENSE_TREES, FOREST, BURNING or WATER.\n",
    "\n",
    "Each one of these types has an arbitrary number between 0 and 1 associated to is: this number represents the likelihood *p* of the cell catching fire.\n",
    "i.e. water has 0, burned also has 0 because a burned patch of forest does not \"reburn\", dense_trees hase a higher number than forest etc... \n",
    "\n",
    "Based on the numbers of burning neighbors I have created a factor, which is then multiplied to *p*, increasing it. \n",
    "This means: if I have a lot of burning neighbors, it will be more likely that I catch fire.\n",
    "Therefore, the probability that i catch fire depends on the status of my neighboring cells.\n",
    "As stated in the assignment: cells also have a certain probability *self_ignition* of self igniting.\n",
    "The value of this probability is arbitrarily chosen by me and it's small.\n",
    "\n",
    "I generate a random number between 0 and 1 and there are two random variable functions that map in the following way:\n",
    "if *random_numer* < *p*, then the cell will be changed to burning.\n",
    "Otherwise, it will, if *random_number* < *self_ignition*, ignite by itself, or remain the same.\n",
    "\n",
    "So the the first RV maps a randomly generated value to one of two outcomes: cell ignites because of neighbors or \n",
    "going through the second RV: cell ignites based on *self_ignition*."
   ]
  },
  {
   "cell_type": "markdown",
   "metadata": {},
   "source": [
    "## 2.b\n",
    "\n",
    "**QUESTION:**\n",
    "\n",
    "Describe the role of random number generators in the `update_grid` function. How are random numbers generated and utilized in the simulation?\n",
    "\n",
    "**ANSWER:**\n",
    "\n",
    "As decribed above, the random generator is used to determine if a cell will burn or not. \n",
    "\n",
    "I also randomly generate the initial grid in the following way:\n",
    "\n",
    "We want to select n random elements from a sequence of possible cell types with replacement (because the events are independent - meaning: if the previous cell is GRASS, this has no inpact on the next one being seomething in particular - at every cell-creation we consider all possible cell types).\n",
    "\n",
    "This is done by generating a *random_number* between 0 and 1.\n",
    "This *random_number* will be used to select an element based on its weight, by accumulating the weights of all options and comparing them with the *random_number*.\n",
    "i.e. with weights = [0, 0.3, 0.2, 0.3, 0.1, 0.1], if my *random_number* is 0.6, it will be mapped to the cell type that corresponds to the third type because (0 + 0.3 + 0.2) < 0.6 < (0 + 0.3 + 0.2 + 0.3).\n",
    "\n",
    "This is done by using random.choices() with weighted sampling (sampling with specified probabilities).\n"
   ]
  },
  {
   "cell_type": "markdown",
   "metadata": {},
   "source": [
    "## 2.c\n",
    "\n",
    "**QUESTION:**\n",
    "\n",
    "Explain the stochastic processes involved in the `update_grid` function. How do these processes influence the behavior of the fire propagation?\n",
    "\n",
    "**ANSWER:**\n",
    "\n",
    "Stochastic elements are in both update_grid and propagate functions. \n",
    "They are introduced through the use of random numbers. \n",
    "These random numbers are utilized to determine whether a cell changes state (e.g., from unburned to burning) based on probabilities associated with the cell's type, its neighbors, and other factors.\n",
    "The propagate function determines whether a cell at position (x, y) in the grid should change its state (e.g., from GRASS to BURNING) based on probabilistic calculations: it checks the type of the current cell, computes the neighbors of the cell, and counts how many of those neighbors are in a burning state. It then calculates the probability of the cell catching fire, taking into account the type-specific ignition probability and the number of burning neighbors. Finally, it generates a random number to compare with the calculated probability to decide whether the cell ignites or remains the same.\n",
    "The outcome of this comparison determines whether the cell changes its state, adding a stochastic element to the simulation.\n",
    "\n",
    "Random numbers are also used during the initial grid generation, where the random.choices() function is employed to randomly assign cell types with specified probabilities.\n"
   ]
  },
  {
   "cell_type": "markdown",
   "metadata": {},
   "source": [
    "## 2.d\n",
    "\n",
    "**QUESTION:**\n",
    "\n",
    "Does `update_grid` exhibit Markov Chain characteristics? How many Markov chains are involved? Explain.\n",
    "\n",
    "**ANSWER:**\n",
    "\n",
    "The process of updating the grid in this fire simulation does exhibit Markov chain characteristics. \n",
    "A Markov chain is a stochastic process where the future state depends only on the current state and is independent of the past states, given the current state. \n",
    "\n",
    "In this simulation:\n",
    "Each cell's state (e.g., BURNING, GRASS, etc.) at time step t depends only on its current state at time step t-1 and the states of its neighbors at time step t-1.\n",
    "The future state of each cell is determined probabilistically based on its current state and the states of its neighbors.\n",
    "These transition probabilities are determined independently for each cell in the grid based on its current state and the states of its neighbors.\n",
    "The simulation iteratively updates the grid over time, and the state of each cell at each time step depends only on the previous time step's state, adhering to the Markov property.\n",
    "Regarding the number of Markov chains involved, there is one Markov chain for each cell in the grid. Each cell undergoes state transitions independently based on its own characteristics and the states of its neighbors. Therefore, there are a total of grid_rows x grid_columns Markov chains in this simulation."
   ]
  },
  {
   "cell_type": "markdown",
   "metadata": {},
   "source": [
    "## 3.a\n",
    "\n",
    "**QUESTION:**\n",
    "\n",
    "Discuss the potential influence of wind speed and direction on fire propagation. In particular, propose modifications to the transition probabilities to include this factor.\n",
    "\n",
    "**ANSWER:**\n",
    "\n",
    "Wind direction could impact the propagation by increasing the probability that cells located in the given direction ignite, and the speed as well.\n",
    "Wind direction could be represented as a vector.\n",
    "Depending on the wind direction, cells upwind would have a lower chance of catching fire from a burning cell, while those downwind would have a higher chance.\n",
    "The higher the wind speed, the greater the probability that the fire will spread.\n"
   ]
  },
  {
   "cell_type": "markdown",
   "metadata": {},
   "source": [
    "## 3.b\n",
    "\n",
    "**QUESTION:**\n",
    "\n",
    "Explore the effect of different vegetation types on fire spread. In particular, propose modifications to the transition probabilities to include this factor.\n",
    "\n",
    "**ANSWER:**\n",
    "\n",
    "I arbitrarily decided that some vegetations is at higher risk of ignition. It's explained in the questions above.\n",
    "They are represented with different colors: \n",
    "```python \n",
    "CellType.GRASS: 'springgreen',\n",
    "CellType.DENSE_TREES: 'green',\n",
    "CellType.FOREST: 'forestgreen'\n",
    "```\n",
    "\n",
    "They also have different probabilities of igniting:\n",
    "```python\n",
    "igniting_probabilities = { \n",
    "    CellType.BURNED: 0,\n",
    "    CellType.GRASS: 0.4,\n",
    "    CellType.DENSE_TREES: 0.2,\n",
    "    CellType.FOREST: 0.3,\n",
    "    CellType.BURNING: 0,\n",
    "    CellType.WATER: 0\n",
    "    }\n",
    "```\n",
    "\n",
    "Grass has more probability of igniting due to the higher concentration of oxygen in fields and the type of vegetation being more delicate.\n",
    "Dense trees have less probability of igniting because of the water content of the trees and the lower oxygen and higher humidity.\n",
    "Regular forest is somwehere in between.\n",
    "I, a certified botanist, am 100% sure about the above information, therefore the simulation is 100% accurate :P\n",
    "\n"
   ]
  },
  {
   "cell_type": "markdown",
   "metadata": {},
   "source": [
    "## 3.c\n",
    "\n",
    "**QUESTION:**\n",
    "\n",
    "Discuss how terrain elevation could affect fire spread. In particular, propose modifications to the transition probabilities to include this factor.\n",
    "\n",
    "**ANSWER:**\n",
    "\n",
    "Greater elevation means lower oxygen, which means less probability of the fire spreading. We could apply some scalar (mutiplicative factor) that reduces che probability all the cells igniting based on the elevation of the entire forest."
   ]
  },
  {
   "cell_type": "markdown",
   "metadata": {},
   "source": [
    "## 3.d\n",
    "\n",
    "**QUESTION:**\n",
    "\n",
    "Identify and discuss at least one other environmental or external factor that could affect forest fire propagation. In particular propose how this factor modifies the transition probabilities.\n",
    "\n",
    "**ANSWER:**\n",
    "\n",
    "The presence of water-neighbors means less probability of the fire spreading. We could apply some scalar (mutiplicative factor) that reduces the probability of a cell igniting based on the number of water neighbors. Propose how this factor modifies the transition probabilities."
   ]
  },
  {
   "cell_type": "markdown",
   "metadata": {},
   "source": [
    "## 3.e\n",
    "\n",
    "**QUESTION:**\n",
    "\n",
    "Implement the modifications discussed in the previous section to your Forest Fire Model. Ensure your implementation is able to simulate the fire propagation with the incorporated factors and demonstrate the working model. Explain any deviations from the initial ideas and the reasons behind such changes. Your code should compile and run correctly to demonstrate the modified model.\n",
    "\n",
    "**ANSWER:**\n",
    "\n",
    "The modifications are already implemented in the provided code and pseudocode :)\n"
   ]
  },
  {
   "cell_type": "markdown",
   "metadata": {},
   "source": []
  }
 ],
 "metadata": {
  "kernelspec": {
   "display_name": "Python 3",
   "language": "python",
   "name": "python3"
  },
  "language_info": {
   "codemirror_mode": {
    "name": "ipython",
    "version": 3
   },
   "file_extension": ".py",
   "mimetype": "text/x-python",
   "name": "python",
   "nbconvert_exporter": "python",
   "pygments_lexer": "ipython3",
   "version": "3.9.10"
  }
 },
 "nbformat": 4,
 "nbformat_minor": 2
}
